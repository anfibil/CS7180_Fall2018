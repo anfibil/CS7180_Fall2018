{
 "cells": [
  {
   "cell_type": "markdown",
   "metadata": {},
   "source": [
    "### While there are several Python packages that are very useful in manipulating, visualizing, cleaning and modeling data, below some of the most popular and best maintained ones:\n",
    "* Pandas (https://pandas.pydata.org/) | High-performance, easy-to-use data structures and data analysis tools\n",
    "* Numpy (http://www.numpy.org/) | The fundamental package for scientific computing with Python\n",
    "* Scipy (https://www.scipy.org/) | Ecosystem of open-source software for mathematics, science, and engineering\n",
    "* Scikit-learn (http://scikit-learn.org) | Simple and efficient tools for data mining and data analysis\n",
    "* Matplotlib (https://matplotlib.org/) | 2D plotting library which produces publication quality figures\n",
    "* Plot.ly (https://plot.ly/) | Library for creating polished interactive plots"
   ]
  },
  {
   "cell_type": "markdown",
   "metadata": {},
   "source": [
    "# Pandas / Matplotlib / Plot.ly Demo"
   ]
  },
  {
   "cell_type": "markdown",
   "metadata": {},
   "source": [
    "##  <span style=\"color:red\">US Baby Names 1880-2015</span>"
   ]
  },
  {
   "cell_type": "markdown",
   "metadata": {},
   "source": [
    "The following datasets [(download here)](https://www.ssa.gov/oact/babynames/limits.html) contain a list of the most frequent names given to newborn babies in the United States each year. There are many things you can do with the dataset:\n",
    "\n",
    "* Visualize the proportion of babies given a particular name (your own, or another name) over time.\n",
    "* Determine the relative rank of a name.\n",
    "* Determine the most popular names in each year or the names with largest increases or decreases.\n",
    "* Analyze trends in names: vowels, consonants, length, overall diversity, changes in spelling, first and last letters.\n",
    "* Analyze external sources of trends: biblical names, celebrities, demographic changes.\n",
    "\n",
    "Modified from \"Python for Data Analysis\" by Wes McKinney.\n",
    "\n",
    "Let's first open a single file and take a look at it:\n"
   ]
  },
  {
   "cell_type": "code",
   "execution_count": 1,
   "metadata": {},
   "outputs": [
    {
     "name": "stdout",
     "output_type": "stream",
     "text": [
      "Populating the interactive namespace from numpy and matplotlib\n"
     ]
    }
   ],
   "source": [
    "%pylab inline"
   ]
  },
  {
   "cell_type": "code",
   "execution_count": 2,
   "metadata": {},
   "outputs": [],
   "source": [
    "import matplotlib.pyplot as plt\n",
    "import pandas as pd"
   ]
  },
  {
   "cell_type": "code",
   "execution_count": 3,
   "metadata": {},
   "outputs": [],
   "source": [
    "# Note that here we are loading a dataset from a web URL. See with TAB what else can be done with read_csv()\n",
    "dataset_url = 'https://raw.githubusercontent.com/cse44648/cse44648/master/datasets/baby-names/yob1880.txt'\n",
    "names1880 = pd.read_csv(dataset_url,  names=['name', 'sex', 'births'])"
   ]
  },
  {
   "cell_type": "code",
   "execution_count": 4,
   "metadata": {},
   "outputs": [
    {
     "data": {
      "text/html": [
       "<div>\n",
       "<style scoped>\n",
       "    .dataframe tbody tr th:only-of-type {\n",
       "        vertical-align: middle;\n",
       "    }\n",
       "\n",
       "    .dataframe tbody tr th {\n",
       "        vertical-align: top;\n",
       "    }\n",
       "\n",
       "    .dataframe thead th {\n",
       "        text-align: right;\n",
       "    }\n",
       "</style>\n",
       "<table border=\"1\" class=\"dataframe\">\n",
       "  <thead>\n",
       "    <tr style=\"text-align: right;\">\n",
       "      <th></th>\n",
       "      <th>name</th>\n",
       "      <th>sex</th>\n",
       "      <th>births</th>\n",
       "    </tr>\n",
       "  </thead>\n",
       "  <tbody>\n",
       "    <tr>\n",
       "      <th>0</th>\n",
       "      <td>Mary</td>\n",
       "      <td>F</td>\n",
       "      <td>7065</td>\n",
       "    </tr>\n",
       "    <tr>\n",
       "      <th>1</th>\n",
       "      <td>Anna</td>\n",
       "      <td>F</td>\n",
       "      <td>2604</td>\n",
       "    </tr>\n",
       "    <tr>\n",
       "      <th>2</th>\n",
       "      <td>Emma</td>\n",
       "      <td>F</td>\n",
       "      <td>2003</td>\n",
       "    </tr>\n",
       "    <tr>\n",
       "      <th>3</th>\n",
       "      <td>Elizabeth</td>\n",
       "      <td>F</td>\n",
       "      <td>1939</td>\n",
       "    </tr>\n",
       "    <tr>\n",
       "      <th>4</th>\n",
       "      <td>Minnie</td>\n",
       "      <td>F</td>\n",
       "      <td>1746</td>\n",
       "    </tr>\n",
       "  </tbody>\n",
       "</table>\n",
       "</div>"
      ],
      "text/plain": [
       "        name sex  births\n",
       "0       Mary   F    7065\n",
       "1       Anna   F    2604\n",
       "2       Emma   F    2003\n",
       "3  Elizabeth   F    1939\n",
       "4     Minnie   F    1746"
      ]
     },
     "execution_count": 4,
     "metadata": {},
     "output_type": "execute_result"
    }
   ],
   "source": [
    "names1880.head()"
   ]
  },
  {
   "cell_type": "code",
   "execution_count": 5,
   "metadata": {},
   "outputs": [
    {
     "data": {
      "text/plain": [
       "(2000, 3)"
      ]
     },
     "execution_count": 5,
     "metadata": {},
     "output_type": "execute_result"
    }
   ],
   "source": [
    "names1880.shape"
   ]
  },
  {
   "cell_type": "code",
   "execution_count": 6,
   "metadata": {},
   "outputs": [
    {
     "data": {
      "text/plain": [
       "count    2000.000000\n",
       "mean      100.741000\n",
       "std       466.098278\n",
       "min         5.000000\n",
       "25%         7.000000\n",
       "50%        13.000000\n",
       "75%        41.250000\n",
       "max      9655.000000\n",
       "Name: births, dtype: float64"
      ]
     },
     "execution_count": 6,
     "metadata": {},
     "output_type": "execute_result"
    }
   ],
   "source": [
    "names1880.births.describe()"
   ]
  },
  {
   "cell_type": "code",
   "execution_count": 7,
   "metadata": {},
   "outputs": [
    {
     "data": {
      "text/html": [
       "<div>\n",
       "<style scoped>\n",
       "    .dataframe tbody tr th:only-of-type {\n",
       "        vertical-align: middle;\n",
       "    }\n",
       "\n",
       "    .dataframe tbody tr th {\n",
       "        vertical-align: top;\n",
       "    }\n",
       "\n",
       "    .dataframe thead th {\n",
       "        text-align: right;\n",
       "    }\n",
       "</style>\n",
       "<table border=\"1\" class=\"dataframe\">\n",
       "  <thead>\n",
       "    <tr style=\"text-align: right;\">\n",
       "      <th></th>\n",
       "      <th>name</th>\n",
       "      <th>sex</th>\n",
       "      <th>births</th>\n",
       "    </tr>\n",
       "  </thead>\n",
       "  <tbody>\n",
       "    <tr>\n",
       "      <th>942</th>\n",
       "      <td>John</td>\n",
       "      <td>M</td>\n",
       "      <td>9655</td>\n",
       "    </tr>\n",
       "  </tbody>\n",
       "</table>\n",
       "</div>"
      ],
      "text/plain": [
       "     name sex  births\n",
       "942  John   M    9655"
      ]
     },
     "execution_count": 7,
     "metadata": {},
     "output_type": "execute_result"
    }
   ],
   "source": [
    "names1880[names1880.births == 9655]"
   ]
  },
  {
   "cell_type": "code",
   "execution_count": 8,
   "metadata": {},
   "outputs": [
    {
     "data": {
      "text/html": [
       "<div>\n",
       "<style scoped>\n",
       "    .dataframe tbody tr th:only-of-type {\n",
       "        vertical-align: middle;\n",
       "    }\n",
       "\n",
       "    .dataframe tbody tr th {\n",
       "        vertical-align: top;\n",
       "    }\n",
       "\n",
       "    .dataframe thead th {\n",
       "        text-align: right;\n",
       "    }\n",
       "</style>\n",
       "<table border=\"1\" class=\"dataframe\">\n",
       "  <thead>\n",
       "    <tr style=\"text-align: right;\">\n",
       "      <th></th>\n",
       "      <th>name</th>\n",
       "      <th>sex</th>\n",
       "      <th>births</th>\n",
       "    </tr>\n",
       "  </thead>\n",
       "  <tbody>\n",
       "    <tr>\n",
       "      <th>835</th>\n",
       "      <td>Adelle</td>\n",
       "      <td>F</td>\n",
       "      <td>5</td>\n",
       "    </tr>\n",
       "    <tr>\n",
       "      <th>836</th>\n",
       "      <td>Adina</td>\n",
       "      <td>F</td>\n",
       "      <td>5</td>\n",
       "    </tr>\n",
       "    <tr>\n",
       "      <th>837</th>\n",
       "      <td>Adrienne</td>\n",
       "      <td>F</td>\n",
       "      <td>5</td>\n",
       "    </tr>\n",
       "    <tr>\n",
       "      <th>838</th>\n",
       "      <td>Albertine</td>\n",
       "      <td>F</td>\n",
       "      <td>5</td>\n",
       "    </tr>\n",
       "    <tr>\n",
       "      <th>839</th>\n",
       "      <td>Alys</td>\n",
       "      <td>F</td>\n",
       "      <td>5</td>\n",
       "    </tr>\n",
       "  </tbody>\n",
       "</table>\n",
       "</div>"
      ],
      "text/plain": [
       "          name sex  births\n",
       "835     Adelle   F       5\n",
       "836      Adina   F       5\n",
       "837   Adrienne   F       5\n",
       "838  Albertine   F       5\n",
       "839       Alys   F       5"
      ]
     },
     "execution_count": 8,
     "metadata": {},
     "output_type": "execute_result"
    }
   ],
   "source": [
    "names1880[names1880.births==5].head()"
   ]
  },
  {
   "cell_type": "code",
   "execution_count": 9,
   "metadata": {},
   "outputs": [
    {
     "data": {
      "image/png": "[encoded data removed]",
      "text/plain": [
       "<Figure size 432x288 with 1 Axes>"
      ]
     },
     "metadata": {},
     "output_type": "display_data"
    }
   ],
   "source": [
    "names1880[\"births\"].hist();"
   ]
  },
  {
   "cell_type": "code",
   "execution_count": 10,
   "metadata": {},
   "outputs": [
    {
     "name": "stdout",
     "output_type": "stream",
     "text": [
      "seaborn-dark\n",
      "seaborn-darkgrid\n",
      "seaborn-ticks\n",
      "fivethirtyeight\n",
      "seaborn-whitegrid\n",
      "classic\n",
      "_classic_test\n",
      "fast\n",
      "seaborn-talk\n",
      "seaborn-dark-palette\n",
      "seaborn-bright\n",
      "seaborn-pastel\n",
      "grayscale\n",
      "seaborn-notebook\n",
      "ggplot\n",
      "seaborn-colorblind\n",
      "seaborn-muted\n",
      "seaborn\n",
      "Solarize_Light2\n",
      "seaborn-paper\n",
      "bmh\n",
      "tableau-colorblind10\n",
      "seaborn-white\n",
      "dark_background\n",
      "seaborn-poster\n",
      "seaborn-deep\n"
     ]
    }
   ],
   "source": [
    "# There are several different plot styles you can use with matplotlib\n",
    "for style in plt.style.available:\n",
    "    print(style)"
   ]
  },
  {
   "cell_type": "code",
   "execution_count": 11,
   "metadata": {},
   "outputs": [],
   "source": [
    "matplotlib.style.use('ggplot')"
   ]
  },
  {
   "cell_type": "code",
   "execution_count": 12,
   "metadata": {},
   "outputs": [
    {
     "data": {
      "image/png": "[encoded data removed]",
      "text/plain": [
       "<Figure size 432x288 with 1 Axes>"
      ]
     },
     "metadata": {},
     "output_type": "display_data"
    }
   ],
   "source": [
    "names1880[\"births\"].hist();"
   ]
  },
  {
   "cell_type": "markdown",
   "metadata": {},
   "source": [
    "Since we have numerous data files, the following snippet combines all of these data into a single pandas `DataFrame` and adds a `year` field."
   ]
  },
  {
   "cell_type": "code",
   "execution_count": 13,
   "metadata": {},
   "outputs": [],
   "source": [
    "years = range(1880, 2015)\n",
    "pieces = []\n",
    "columns = ['name', 'sex', 'births']\n",
    "\n",
    "for year in years:\n",
    "    path = 'https://raw.githubusercontent.com/cse44648/cse44648/master/datasets/baby-names/yob%d.txt' % year\n",
    "    frame = pd.read_csv(path, names=columns)\n",
    "    frame['year'] = year\n",
    "    pieces.append(frame)\n",
    "\n",
    "# Concatenate everything into a single DataFrame.\n",
    "names = pd.concat(pieces, ignore_index=True)"
   ]
  },
  {
   "cell_type": "code",
   "execution_count": 16,
   "metadata": {},
   "outputs": [],
   "source": [
    "# This would save the above dataframe for future use\n",
    "names.to_csv('/Users/I850670/Desktop/us_baby_names.csv', index=False)\n",
    "\n",
    "# The code above may take a while to run. Alternativelly, you can load the local copy of the dataset as below\n",
    "#names = pd.read_csv(\"../data/us_baby_names.csv\")"
   ]
  },
  {
   "cell_type": "markdown",
   "metadata": {},
   "source": [
    "We can now perform several types of aggregation. For example, let's create a new `DataFrame` containing the total number of births per year, split by sex."
   ]
  },
  {
   "cell_type": "code",
   "execution_count": 14,
   "metadata": {},
   "outputs": [],
   "source": [
    "total_births = names.pivot_table('births', index='year', columns='sex', aggfunc=sum)"
   ]
  },
  {
   "cell_type": "code",
   "execution_count": 15,
   "metadata": {},
   "outputs": [
    {
     "data": {
      "text/html": [
       "<div>\n",
       "<style scoped>\n",
       "    .dataframe tbody tr th:only-of-type {\n",
       "        vertical-align: middle;\n",
       "    }\n",
       "\n",
       "    .dataframe tbody tr th {\n",
       "        vertical-align: top;\n",
       "    }\n",
       "\n",
       "    .dataframe thead th {\n",
       "        text-align: right;\n",
       "    }\n",
       "</style>\n",
       "<table border=\"1\" class=\"dataframe\">\n",
       "  <thead>\n",
       "    <tr style=\"text-align: right;\">\n",
       "      <th>sex</th>\n",
       "      <th>F</th>\n",
       "      <th>M</th>\n",
       "    </tr>\n",
       "    <tr>\n",
       "      <th>year</th>\n",
       "      <th></th>\n",
       "      <th></th>\n",
       "    </tr>\n",
       "  </thead>\n",
       "  <tbody>\n",
       "    <tr>\n",
       "      <th>1880</th>\n",
       "      <td>90992</td>\n",
       "      <td>110490</td>\n",
       "    </tr>\n",
       "    <tr>\n",
       "      <th>1881</th>\n",
       "      <td>91953</td>\n",
       "      <td>100743</td>\n",
       "    </tr>\n",
       "    <tr>\n",
       "      <th>1882</th>\n",
       "      <td>107848</td>\n",
       "      <td>113686</td>\n",
       "    </tr>\n",
       "    <tr>\n",
       "      <th>1883</th>\n",
       "      <td>112318</td>\n",
       "      <td>104627</td>\n",
       "    </tr>\n",
       "    <tr>\n",
       "      <th>1884</th>\n",
       "      <td>129020</td>\n",
       "      <td>114443</td>\n",
       "    </tr>\n",
       "  </tbody>\n",
       "</table>\n",
       "</div>"
      ],
      "text/plain": [
       "sex        F       M\n",
       "year                \n",
       "1880   90992  110490\n",
       "1881   91953  100743\n",
       "1882  107848  113686\n",
       "1883  112318  104627\n",
       "1884  129020  114443"
      ]
     },
     "execution_count": 15,
     "metadata": {},
     "output_type": "execute_result"
    }
   ],
   "source": [
    "total_births.head()"
   ]
  },
  {
   "cell_type": "markdown",
   "metadata": {},
   "source": [
    "Using the `plot()` function, we can very quickly draw a figure to illustrate this DataFrame."
   ]
  },
  {
   "cell_type": "code",
   "execution_count": 16,
   "metadata": {},
   "outputs": [
    {
     "data": {
      "image/png": "[encoded data removed]",
      "text/plain": [
       "<Figure size 720x360 with 1 Axes>"
      ]
     },
     "metadata": {},
     "output_type": "display_data"
    }
   ],
   "source": [
    "total_births.plot(figsize=(10,5), title='Total Births by Sex and Year', color=[\"red\",\"blue\"]);"
   ]
  },
  {
   "cell_type": "markdown",
   "metadata": {},
   "source": [
    "### Interactive plot using Plot.ly"
   ]
  },
  {
   "cell_type": "code",
   "execution_count": 17,
   "metadata": {},
   "outputs": [
    {
     "data": {
      "text/html": [
       "<script>requirejs.config({paths: { 'plotly': ['https://cdn.plot.ly/plotly-latest.min']},});if(!window.Plotly) {{require(['plotly'],function(plotly) {window.Plotly=plotly;});}}</script>"
      ],
      "text/vnd.plotly.v1+html": [
       "<script>requirejs.config({paths: { 'plotly': ['https://cdn.plot.ly/plotly-latest.min']},});if(!window.Plotly) {{require(['plotly'],function(plotly) {window.Plotly=plotly;});}}</script>"
      ]
     },
     "metadata": {},
     "output_type": "display_data"
    }
   ],
   "source": [
    "import plotly.plotly as py\n",
    "import plotly.graph_objs as go\n",
    "from plotly.offline import download_plotlyjs, init_notebook_mode, plot, iplot\n",
    "init_notebook_mode(connected=True)"
   ]
  },
  {
   "cell_type": "code",
   "execution_count": 18,
   "metadata": {},
   "outputs": [],
   "source": [
    "data = [\n",
    "    go.Scatter(\n",
    "        x=total_births.index,\n",
    "        y=total_births[\"F\"],\n",
    "        name='F'\n",
    "    ),\n",
    "    go.Scatter(\n",
    "        x=total_births.index,\n",
    "        y=total_births[\"M\"],\n",
    "        name='M'\n",
    "    )\n",
    "]\n",
    "\n",
    "# Edit the layout\n",
    "layout = dict(title = 'US Baby Names Over Time',\n",
    "              xaxis = dict(title = 'Year'),\n",
    "              yaxis = dict(title = 'Number of Births'),\n",
    "              )\n",
    "\n",
    "fig = dict(data=data, layout=layout)"
   ]
  },
  {
   "cell_type": "code",
   "execution_count": 19,
   "metadata": {},
   "outputs": [
    {
     "data": {
      "application/vnd.plotly.v1+json": {
       "data": [
        {
         "name": "F",
         "type": "scatter",
         "uid": "628c1aa6-94f4-11e8-acf7-a45e60f26735",
         "x": [
          1880,
          1881,
          1882,
          1883,
          1884,
          1885,
          1886,
          1887,
          1888,
          1889,
          1890,
          1891,
          1892,
          1893,
          1894,
          1895,
          1896,
          1897,
          1898,
          1899,
          1900,
          1901,
          1902,
          1903,
          1904,
          1905,
          1906,
          1907,
          1908,
          1909,
          1910,
          1911,
          1912,
          1913,
          1914,
          1915,
          1916,
          1917,
          1918,
          1919,
          1920,
          1921,
          1922,
          1923,
          1924,
          1925,
          1926,
          1927,
          1928,
          1929,
          1930,
          1931,
          1932,
          1933,
          1934,
          1935,
          1936,
          1937,
          1938,
          1939,
          1940,
          1941,
          1942,
          1943,
          1944,
          1945,
          1946,
          1947,
          1948,
          1949,
          1950,
          1951,
          1952,
          1953,
          1954,
          1955,
          1956,
          1957,
          1958,
          1959,
          1960,
          1961,
          1962,
          1963,
          1964,
          1965,
          1966,
          1967,
          1968,
          1969,
          1970,
          1971,
          1972,
          1973,
          1974,
          1975,
          1976,
          1977,
          1978,
          1979,
          1980,
          1981,
          1982,
          1983,
          1984,
          1985,
          1986,
          1987,
          1988,
          1989,
          1990,
          1991,
          1992,
          1993,
          1994,
          1995,
          1996,
          1997,
          1998,
          1999,
          2000,
          2001,
          2002,
          2003,
          2004,
          2005,
          2006,
          2007,
          2008,
          2009,
          2010,
          2011,
          2012,
          2013,
          2014
         ],
         "y": [
          90992,
          91953,
          107848,
          112318,
          129020,
          133055,
          144534,
          145981,
          178624,
          178366,
          190376,
          185482,
          212341,
          212905,
          222922,
          233628,
          237918,
          234200,
          258770,
          233023,
          299822,
          239347,
          264075,
          261972,
          275371,
          291623,
          295304,
          318565,
          334315,
          347232,
          396503,
          418304,
          558113,
          624536,
          761561,
          983876,
          1044328,
          1081290,
          1157651,
          1130134,
          1198287,
          1233019,
          1200951,
          1206326,
          1248902,
          1217365,
          1185350,
          1192350,
          1153140,
          1116472,
          1125817,
          1064552,
          1067019,
          1007748,
          1044064,
          1048464,
          1040243,
          1063879,
          1103312,
          1096549,
          1143357,
          1207942,
          1350571,
          1395115,
          1327128,
          1307016,
          1571209,
          1772650,
          1697809,
          1710832,
          1713450,
          1800289,
          1854464,
          1880908,
          1941632,
          1954722,
          2007513,
          2044225,
          2010941,
          2023078,
          2022121,
          2017432,
          1966612,
          1927239,
          1894676,
          1765063,
          1691925,
          1650839,
          1640167,
          1687000,
          1748250,
          1663570,
          1521234,
          1458155,
          1467451,
          1457750,
          1465169,
          1533070,
          1531758,
          1605130,
          1660042,
          1667611,
          1692818,
          1670167,
          1683111,
          1720164,
          1714784,
          1737981,
          1779975,
          1843175,
          1897807,
          1874489,
          1843383,
          1808508,
          1785184,
          1758010,
          1752364,
          1739963,
          1766075,
          1772788,
          1814738,
          1799199,
          1795367,
          1825509,
          1834379,
          1845640,
          1898776,
          1919775,
          1887660,
          1833461,
          1773440,
          1754424,
          1755254,
          1747544,
          1777242
         ]
        },
        {
         "name": "M",
         "type": "scatter",
         "uid": "628e556e-94f4-11e8-acfd-a45e60f26735",
         "x": [
          1880,
          1881,
          1882,
          1883,
          1884,
          1885,
          1886,
          1887,
          1888,
          1889,
          1890,
          1891,
          1892,
          1893,
          1894,
          1895,
          1896,
          1897,
          1898,
          1899,
          1900,
          1901,
          1902,
          1903,
          1904,
          1905,
          1906,
          1907,
          1908,
          1909,
          1910,
          1911,
          1912,
          1913,
          1914,
          1915,
          1916,
          1917,
          1918,
          1919,
          1920,
          1921,
          1922,
          1923,
          1924,
          1925,
          1926,
          1927,
          1928,
          1929,
          1930,
          1931,
          1932,
          1933,
          1934,
          1935,
          1936,
          1937,
          1938,
          1939,
          1940,
          1941,
          1942,
          1943,
          1944,
          1945,
          1946,
          1947,
          1948,
          1949,
          1950,
          1951,
          1952,
          1953,
          1954,
          1955,
          1956,
          1957,
          1958,
          1959,
          1960,
          1961,
          1962,
          1963,
          1964,
          1965,
          1966,
          1967,
          1968,
          1969,
          1970,
          1971,
          1972,
          1973,
          1974,
          1975,
          1976,
          1977,
          1978,
          1979,
          1980,
          1981,
          1982,
          1983,
          1984,
          1985,
          1986,
          1987,
          1988,
          1989,
          1990,
          1991,
          1992,
          1993,
          1994,
          1995,
          1996,
          1997,
          1998,
          1999,
          2000,
          2001,
          2002,
          2003,
          2004,
          2005,
          2006,
          2007,
          2008,
          2009,
          2010,
          2011,
          2012,
          2013,
          2014
         ],
         "y": [
          110490,
          100743,
          113686,
          104627,
          114443,
          107799,
          110785,
          101415,
          120850,
          110582,
          111025,
          101193,
          122036,
          112317,
          115770,
          117396,
          119568,
          112758,
          122691,
          106212,
          150490,
          106469,
          122659,
          119233,
          128125,
          132318,
          133157,
          146830,
          154343,
          163999,
          194216,
          225967,
          429946,
          512558,
          654764,
          848603,
          890095,
          925508,
          1013522,
          980137,
          1064445,
          1101447,
          1088286,
          1096187,
          1132749,
          1115952,
          1110516,
          1126817,
          1107542,
          1075396,
          1097224,
          1039243,
          1043884,
          991205,
          1032326,
          1040987,
          1037009,
          1066379,
          1108880,
          1106617,
          1158943,
          1228011,
          1380812,
          1426908,
          1362607,
          1345660,
          1623728,
          1829293,
          1754438,
          1773754,
          1791474,
          1881716,
          1943744,
          1971136,
          2037515,
          2058035,
          2113761,
          2155921,
          2120843,
          2133539,
          2132756,
          2122608,
          2068953,
          2031746,
          1993353,
          1861377,
          1783992,
          1744507,
          1738999,
          1789709,
          1859647,
          1769292,
          1622736,
          1559416,
          1573195,
          1562298,
          1569980,
          1643802,
          1642388,
          1722104,
          1784088,
          1791101,
          1814211,
          1791964,
          1803995,
          1847231,
          1840347,
          1865804,
          1912764,
          2000082,
          2052662,
          2019523,
          1996492,
          1960486,
          1931313,
          1902971,
          1893548,
          1884324,
          1910424,
          1918984,
          1962556,
          1941401,
          1939950,
          1973612,
          1983010,
          1995115,
          2052652,
          2072505,
          2036750,
          1979895,
          1914629,
          1894262,
          1890889,
          1883945,
          1910876
         ]
        }
       ],
       "layout": {
        "title": "US Baby Names Over Time",
        "xaxis": {
         "title": "Year"
        },
        "yaxis": {
         "title": "Number of Births"
        }
       }
      },
      "text/html": [
       "<div id=\"2429346c-8df9-43fe-a740-1cc5a743a255\" style=\"height: 525px; width: 100%;\" class=\"plotly-graph-div\"></div><script type=\"text/javascript\">require([\"plotly\"], function(Plotly) { window.PLOTLYENV=window.PLOTLYENV || {};window.PLOTLYENV.BASE_URL=\"https://plot.ly\";Plotly.newPlot(\"2429346c-8df9-43fe-a740-1cc5a743a255\", [{\"name\": \"F\", \"x\": [1880.0, 1881.0, 1882.0, 1883.0, 1884.0, 1885.0, 1886.0, 1887.0, 1888.0, 1889.0, 1890.0, 1891.0, 1892.0, 1893.0, 1894.0, 1895.0, 1896.0, 1897.0, 1898.0, 1899.0, 1900.0, 1901.0, 1902.0, 1903.0, 1904.0, 1905.0, 1906.0, 1907.0, 1908.0, 1909.0, 1910.0, 1911.0, 1912.0, 1913.0, 1914.0, 1915.0, 1916.0, 1917.0, 1918.0, 1919.0, 1920.0, 1921.0, 1922.0, 1923.0, 1924.0, 1925.0, 1926.0, 1927.0, 1928.0, 1929.0, 1930.0, 1931.0, 1932.0, 1933.0, 1934.0, 1935.0, 1936.0, 1937.0, 1938.0, 1939.0, 1940.0, 1941.0, 1942.0, 1943.0, 1944.0, 1945.0, 1946.0, 1947.0, 1948.0, 1949.0, 1950.0, 1951.0, 1952.0, 1953.0, 1954.0, 1955.0, 1956.0, 1957.0, 1958.0, 1959.0, 1960.0, 1961.0, 1962.0, 1963.0, 1964.0, 1965.0, 1966.0, 1967.0, 1968.0, 1969.0, 1970.0, 1971.0, 1972.0, 1973.0, 1974.0, 1975.0, 1976.0, 1977.0, 1978.0, 1979.0, 1980.0, 1981.0, 1982.0, 1983.0, 1984.0, 1985.0, 1986.0, 1987.0, 1988.0, 1989.0, 1990.0, 1991.0, 1992.0, 1993.0, 1994.0, 1995.0, 1996.0, 1997.0, 1998.0, 1999.0, 2000.0, 2001.0, 2002.0, 2003.0, 2004.0, 2005.0, 2006.0, 2007.0, 2008.0, 2009.0, 2010.0, 2011.0, 2012.0, 2013.0, 2014.0], \"y\": [90992.0, 91953.0, 107848.0, 112318.0, 129020.0, 133055.0, 144534.0, 145981.0, 178624.0, 178366.0, 190376.0, 185482.0, 212341.0, 212905.0, 222922.0, 233628.0, 237918.0, 234200.0, 258770.0, 233023.0, 299822.0, 239347.0, 264075.0, 261972.0, 275371.0, 291623.0, 295304.0, 318565.0, 334315.0, 347232.0, 396503.0, 418304.0, 558113.0, 624536.0, 761561.0, 983876.0, 1044328.0, 1081290.0, 1157651.0, 1130134.0, 1198287.0, 1233019.0, 1200951.0, 1206326.0, 1248902.0, 1217365.0, 1185350.0, 1192350.0, 1153140.0, 1116472.0, 1125817.0, 1064552.0, 1067019.0, 1007748.0, 1044064.0, 1048464.0, 1040243.0, 1063879.0, 1103312.0, 1096549.0, 1143357.0, 1207942.0, 1350571.0, 1395115.0, 1327128.0, 1307016.0, 1571209.0, 1772650.0, 1697809.0, 1710832.0, 1713450.0, 1800289.0, 1854464.0, 1880908.0, 1941632.0, 1954722.0, 2007513.0, 2044225.0, 2010941.0, 2023078.0, 2022121.0, 2017432.0, 1966612.0, 1927239.0, 1894676.0, 1765063.0, 1691925.0, 1650839.0, 1640167.0, 1687000.0, 1748250.0, 1663570.0, 1521234.0, 1458155.0, 1467451.0, 1457750.0, 1465169.0, 1533070.0, 1531758.0, 1605130.0, 1660042.0, 1667611.0, 1692818.0, 1670167.0, 1683111.0, 1720164.0, 1714784.0, 1737981.0, 1779975.0, 1843175.0, 1897807.0, 1874489.0, 1843383.0, 1808508.0, 1785184.0, 1758010.0, 1752364.0, 1739963.0, 1766075.0, 1772788.0, 1814738.0, 1799199.0, 1795367.0, 1825509.0, 1834379.0, 1845640.0, 1898776.0, 1919775.0, 1887660.0, 1833461.0, 1773440.0, 1754424.0, 1755254.0, 1747544.0, 1777242.0], \"type\": \"scatter\", \"uid\": \"62b5a8c6-94f4-11e8-8832-a45e60f26735\"}, {\"name\": \"M\", \"x\": [1880.0, 1881.0, 1882.0, 1883.0, 1884.0, 1885.0, 1886.0, 1887.0, 1888.0, 1889.0, 1890.0, 1891.0, 1892.0, 1893.0, 1894.0, 1895.0, 1896.0, 1897.0, 1898.0, 1899.0, 1900.0, 1901.0, 1902.0, 1903.0, 1904.0, 1905.0, 1906.0, 1907.0, 1908.0, 1909.0, 1910.0, 1911.0, 1912.0, 1913.0, 1914.0, 1915.0, 1916.0, 1917.0, 1918.0, 1919.0, 1920.0, 1921.0, 1922.0, 1923.0, 1924.0, 1925.0, 1926.0, 1927.0, 1928.0, 1929.0, 1930.0, 1931.0, 1932.0, 1933.0, 1934.0, 1935.0, 1936.0, 1937.0, 1938.0, 1939.0, 1940.0, 1941.0, 1942.0, 1943.0, 1944.0, 1945.0, 1946.0, 1947.0, 1948.0, 1949.0, 1950.0, 1951.0, 1952.0, 1953.0, 1954.0, 1955.0, 1956.0, 1957.0, 1958.0, 1959.0, 1960.0, 1961.0, 1962.0, 1963.0, 1964.0, 1965.0, 1966.0, 1967.0, 1968.0, 1969.0, 1970.0, 1971.0, 1972.0, 1973.0, 1974.0, 1975.0, 1976.0, 1977.0, 1978.0, 1979.0, 1980.0, 1981.0, 1982.0, 1983.0, 1984.0, 1985.0, 1986.0, 1987.0, 1988.0, 1989.0, 1990.0, 1991.0, 1992.0, 1993.0, 1994.0, 1995.0, 1996.0, 1997.0, 1998.0, 1999.0, 2000.0, 2001.0, 2002.0, 2003.0, 2004.0, 2005.0, 2006.0, 2007.0, 2008.0, 2009.0, 2010.0, 2011.0, 2012.0, 2013.0, 2014.0], \"y\": [110490.0, 100743.0, 113686.0, 104627.0, 114443.0, 107799.0, 110785.0, 101415.0, 120850.0, 110582.0, 111025.0, 101193.0, 122036.0, 112317.0, 115770.0, 117396.0, 119568.0, 112758.0, 122691.0, 106212.0, 150490.0, 106469.0, 122659.0, 119233.0, 128125.0, 132318.0, 133157.0, 146830.0, 154343.0, 163999.0, 194216.0, 225967.0, 429946.0, 512558.0, 654764.0, 848603.0, 890095.0, 925508.0, 1013522.0, 980137.0, 1064445.0, 1101447.0, 1088286.0, 1096187.0, 1132749.0, 1115952.0, 1110516.0, 1126817.0, 1107542.0, 1075396.0, 1097224.0, 1039243.0, 1043884.0, 991205.0, 1032326.0, 1040987.0, 1037009.0, 1066379.0, 1108880.0, 1106617.0, 1158943.0, 1228011.0, 1380812.0, 1426908.0, 1362607.0, 1345660.0, 1623728.0, 1829293.0, 1754438.0, 1773754.0, 1791474.0, 1881716.0, 1943744.0, 1971136.0, 2037515.0, 2058035.0, 2113761.0, 2155921.0, 2120843.0, 2133539.0, 2132756.0, 2122608.0, 2068953.0, 2031746.0, 1993353.0, 1861377.0, 1783992.0, 1744507.0, 1738999.0, 1789709.0, 1859647.0, 1769292.0, 1622736.0, 1559416.0, 1573195.0, 1562298.0, 1569980.0, 1643802.0, 1642388.0, 1722104.0, 1784088.0, 1791101.0, 1814211.0, 1791964.0, 1803995.0, 1847231.0, 1840347.0, 1865804.0, 1912764.0, 2000082.0, 2052662.0, 2019523.0, 1996492.0, 1960486.0, 1931313.0, 1902971.0, 1893548.0, 1884324.0, 1910424.0, 1918984.0, 1962556.0, 1941401.0, 1939950.0, 1973612.0, 1983010.0, 1995115.0, 2052652.0, 2072505.0, 2036750.0, 1979895.0, 1914629.0, 1894262.0, 1890889.0, 1883945.0, 1910876.0], \"type\": \"scatter\", \"uid\": \"62b5aa38-94f4-11e8-9964-a45e60f26735\"}], {\"title\": \"US Baby Names Over Time\", \"xaxis\": {\"title\": \"Year\"}, \"yaxis\": {\"title\": \"Number of Births\"}}, {\"showLink\": true, \"linkText\": \"Export to plot.ly\"})});</script>"
      ],
      "text/vnd.plotly.v1+html": [
       "<div id=\"2429346c-8df9-43fe-a740-1cc5a743a255\" style=\"height: 525px; width: 100%;\" class=\"plotly-graph-div\"></div><script type=\"text/javascript\">require([\"plotly\"], function(Plotly) { window.PLOTLYENV=window.PLOTLYENV || {};window.PLOTLYENV.BASE_URL=\"https://plot.ly\";Plotly.newPlot(\"2429346c-8df9-43fe-a740-1cc5a743a255\", [{\"name\": \"F\", \"x\": [1880.0, 1881.0, 1882.0, 1883.0, 1884.0, 1885.0, 1886.0, 1887.0, 1888.0, 1889.0, 1890.0, 1891.0, 1892.0, 1893.0, 1894.0, 1895.0, 1896.0, 1897.0, 1898.0, 1899.0, 1900.0, 1901.0, 1902.0, 1903.0, 1904.0, 1905.0, 1906.0, 1907.0, 1908.0, 1909.0, 1910.0, 1911.0, 1912.0, 1913.0, 1914.0, 1915.0, 1916.0, 1917.0, 1918.0, 1919.0, 1920.0, 1921.0, 1922.0, 1923.0, 1924.0, 1925.0, 1926.0, 1927.0, 1928.0, 1929.0, 1930.0, 1931.0, 1932.0, 1933.0, 1934.0, 1935.0, 1936.0, 1937.0, 1938.0, 1939.0, 1940.0, 1941.0, 1942.0, 1943.0, 1944.0, 1945.0, 1946.0, 1947.0, 1948.0, 1949.0, 1950.0, 1951.0, 1952.0, 1953.0, 1954.0, 1955.0, 1956.0, 1957.0, 1958.0, 1959.0, 1960.0, 1961.0, 1962.0, 1963.0, 1964.0, 1965.0, 1966.0, 1967.0, 1968.0, 1969.0, 1970.0, 1971.0, 1972.0, 1973.0, 1974.0, 1975.0, 1976.0, 1977.0, 1978.0, 1979.0, 1980.0, 1981.0, 1982.0, 1983.0, 1984.0, 1985.0, 1986.0, 1987.0, 1988.0, 1989.0, 1990.0, 1991.0, 1992.0, 1993.0, 1994.0, 1995.0, 1996.0, 1997.0, 1998.0, 1999.0, 2000.0, 2001.0, 2002.0, 2003.0, 2004.0, 2005.0, 2006.0, 2007.0, 2008.0, 2009.0, 2010.0, 2011.0, 2012.0, 2013.0, 2014.0], \"y\": [90992.0, 91953.0, 107848.0, 112318.0, 129020.0, 133055.0, 144534.0, 145981.0, 178624.0, 178366.0, 190376.0, 185482.0, 212341.0, 212905.0, 222922.0, 233628.0, 237918.0, 234200.0, 258770.0, 233023.0, 299822.0, 239347.0, 264075.0, 261972.0, 275371.0, 291623.0, 295304.0, 318565.0, 334315.0, 347232.0, 396503.0, 418304.0, 558113.0, 624536.0, 761561.0, 983876.0, 1044328.0, 1081290.0, 1157651.0, 1130134.0, 1198287.0, 1233019.0, 1200951.0, 1206326.0, 1248902.0, 1217365.0, 1185350.0, 1192350.0, 1153140.0, 1116472.0, 1125817.0, 1064552.0, 1067019.0, 1007748.0, 1044064.0, 1048464.0, 1040243.0, 1063879.0, 1103312.0, 1096549.0, 1143357.0, 1207942.0, 1350571.0, 1395115.0, 1327128.0, 1307016.0, 1571209.0, 1772650.0, 1697809.0, 1710832.0, 1713450.0, 1800289.0, 1854464.0, 1880908.0, 1941632.0, 1954722.0, 2007513.0, 2044225.0, 2010941.0, 2023078.0, 2022121.0, 2017432.0, 1966612.0, 1927239.0, 1894676.0, 1765063.0, 1691925.0, 1650839.0, 1640167.0, 1687000.0, 1748250.0, 1663570.0, 1521234.0, 1458155.0, 1467451.0, 1457750.0, 1465169.0, 1533070.0, 1531758.0, 1605130.0, 1660042.0, 1667611.0, 1692818.0, 1670167.0, 1683111.0, 1720164.0, 1714784.0, 1737981.0, 1779975.0, 1843175.0, 1897807.0, 1874489.0, 1843383.0, 1808508.0, 1785184.0, 1758010.0, 1752364.0, 1739963.0, 1766075.0, 1772788.0, 1814738.0, 1799199.0, 1795367.0, 1825509.0, 1834379.0, 1845640.0, 1898776.0, 1919775.0, 1887660.0, 1833461.0, 1773440.0, 1754424.0, 1755254.0, 1747544.0, 1777242.0], \"type\": \"scatter\", \"uid\": \"62b5a8c6-94f4-11e8-8832-a45e60f26735\"}, {\"name\": \"M\", \"x\": [1880.0, 1881.0, 1882.0, 1883.0, 1884.0, 1885.0, 1886.0, 1887.0, 1888.0, 1889.0, 1890.0, 1891.0, 1892.0, 1893.0, 1894.0, 1895.0, 1896.0, 1897.0, 1898.0, 1899.0, 1900.0, 1901.0, 1902.0, 1903.0, 1904.0, 1905.0, 1906.0, 1907.0, 1908.0, 1909.0, 1910.0, 1911.0, 1912.0, 1913.0, 1914.0, 1915.0, 1916.0, 1917.0, 1918.0, 1919.0, 1920.0, 1921.0, 1922.0, 1923.0, 1924.0, 1925.0, 1926.0, 1927.0, 1928.0, 1929.0, 1930.0, 1931.0, 1932.0, 1933.0, 1934.0, 1935.0, 1936.0, 1937.0, 1938.0, 1939.0, 1940.0, 1941.0, 1942.0, 1943.0, 1944.0, 1945.0, 1946.0, 1947.0, 1948.0, 1949.0, 1950.0, 1951.0, 1952.0, 1953.0, 1954.0, 1955.0, 1956.0, 1957.0, 1958.0, 1959.0, 1960.0, 1961.0, 1962.0, 1963.0, 1964.0, 1965.0, 1966.0, 1967.0, 1968.0, 1969.0, 1970.0, 1971.0, 1972.0, 1973.0, 1974.0, 1975.0, 1976.0, 1977.0, 1978.0, 1979.0, 1980.0, 1981.0, 1982.0, 1983.0, 1984.0, 1985.0, 1986.0, 1987.0, 1988.0, 1989.0, 1990.0, 1991.0, 1992.0, 1993.0, 1994.0, 1995.0, 1996.0, 1997.0, 1998.0, 1999.0, 2000.0, 2001.0, 2002.0, 2003.0, 2004.0, 2005.0, 2006.0, 2007.0, 2008.0, 2009.0, 2010.0, 2011.0, 2012.0, 2013.0, 2014.0], \"y\": [110490.0, 100743.0, 113686.0, 104627.0, 114443.0, 107799.0, 110785.0, 101415.0, 120850.0, 110582.0, 111025.0, 101193.0, 122036.0, 112317.0, 115770.0, 117396.0, 119568.0, 112758.0, 122691.0, 106212.0, 150490.0, 106469.0, 122659.0, 119233.0, 128125.0, 132318.0, 133157.0, 146830.0, 154343.0, 163999.0, 194216.0, 225967.0, 429946.0, 512558.0, 654764.0, 848603.0, 890095.0, 925508.0, 1013522.0, 980137.0, 1064445.0, 1101447.0, 1088286.0, 1096187.0, 1132749.0, 1115952.0, 1110516.0, 1126817.0, 1107542.0, 1075396.0, 1097224.0, 1039243.0, 1043884.0, 991205.0, 1032326.0, 1040987.0, 1037009.0, 1066379.0, 1108880.0, 1106617.0, 1158943.0, 1228011.0, 1380812.0, 1426908.0, 1362607.0, 1345660.0, 1623728.0, 1829293.0, 1754438.0, 1773754.0, 1791474.0, 1881716.0, 1943744.0, 1971136.0, 2037515.0, 2058035.0, 2113761.0, 2155921.0, 2120843.0, 2133539.0, 2132756.0, 2122608.0, 2068953.0, 2031746.0, 1993353.0, 1861377.0, 1783992.0, 1744507.0, 1738999.0, 1789709.0, 1859647.0, 1769292.0, 1622736.0, 1559416.0, 1573195.0, 1562298.0, 1569980.0, 1643802.0, 1642388.0, 1722104.0, 1784088.0, 1791101.0, 1814211.0, 1791964.0, 1803995.0, 1847231.0, 1840347.0, 1865804.0, 1912764.0, 2000082.0, 2052662.0, 2019523.0, 1996492.0, 1960486.0, 1931313.0, 1902971.0, 1893548.0, 1884324.0, 1910424.0, 1918984.0, 1962556.0, 1941401.0, 1939950.0, 1973612.0, 1983010.0, 1995115.0, 2052652.0, 2072505.0, 2036750.0, 1979895.0, 1914629.0, 1894262.0, 1890889.0, 1883945.0, 1910876.0], \"type\": \"scatter\", \"uid\": \"62b5aa38-94f4-11e8-9964-a45e60f26735\"}], {\"title\": \"US Baby Names Over Time\", \"xaxis\": {\"title\": \"Year\"}, \"yaxis\": {\"title\": \"Number of Births\"}}, {\"showLink\": true, \"linkText\": \"Export to plot.ly\"})});</script>"
      ]
     },
     "metadata": {},
     "output_type": "display_data"
    }
   ],
   "source": [
    "iplot(fig)"
   ]
  },
  {
   "cell_type": "markdown",
   "metadata": {},
   "source": [
    "Now suppose we would like to analyze how frequently the names _John_, _Mary_, _Pamela_, _Reid_, _Thomas_, and _Katricia_ occurr over time.\n",
    "\n",
    "First we redefine total_births, this time aggregating data by name rather than sex. We then retrieve the subset of names that we are interested in and plot them."
   ]
  },
  {
   "cell_type": "code",
   "execution_count": 20,
   "metadata": {},
   "outputs": [],
   "source": [
    "matplotlib.style.use('seaborn-white')"
   ]
  },
  {
   "cell_type": "code",
   "execution_count": 21,
   "metadata": {},
   "outputs": [
    {
     "data": {
      "image/png": "[encoded data removed]",
      "text/plain": [
       "<Figure size 1080x1224 with 5 Axes>"
      ]
     },
     "metadata": {},
     "output_type": "display_data"
    }
   ],
   "source": [
    "total_births = names.pivot_table('births', index='year', columns='name', aggfunc=sum)\n",
    "subset = total_births[['John', 'Mary', 'Pamela', 'Reid','Katricia']]\n",
    "subset.plot(subplots=True, figsize=(15, 17), grid=False, title=\"Number of Births per Year\");"
   ]
  },
  {
   "cell_type": "markdown",
   "metadata": {},
   "source": [
    "### Gender neutral names"
   ]
  },
  {
   "cell_type": "code",
   "execution_count": 22,
   "metadata": {},
   "outputs": [],
   "source": [
    "gender_neutral_name = names[names[\"name\"] == \"Rory\"].pivot_table('births', index='year', columns='sex', aggfunc=sum)"
   ]
  },
  {
   "cell_type": "code",
   "execution_count": 23,
   "metadata": {},
   "outputs": [
    {
     "data": {
      "image/png": "[encoded data removed]",
      "text/plain": [
       "<Figure size 720x360 with 1 Axes>"
      ]
     },
     "metadata": {},
     "output_type": "display_data"
    }
   ],
   "source": [
    "gender_neutral_name.plot(figsize=(10,5), title='Total Births by Sex and Year', color=[\"red\",\"blue\"]);"
   ]
  },
  {
   "cell_type": "markdown",
   "metadata": {},
   "source": [
    "### Most strongly gender neutral names"
   ]
  },
  {
   "cell_type": "code",
   "execution_count": 24,
   "metadata": {},
   "outputs": [],
   "source": [
    "names_by_gender = names.pivot_table(\"births\", index=\"name\", columns=\"sex\", aggfunc=\"sum\")"
   ]
  },
  {
   "cell_type": "code",
   "execution_count": 25,
   "metadata": {},
   "outputs": [],
   "source": [
    "names_by_gender = names_by_gender.dropna()"
   ]
  },
  {
   "cell_type": "code",
   "execution_count": 26,
   "metadata": {},
   "outputs": [
    {
     "data": {
      "text/html": [
       "<div>\n",
       "<style scoped>\n",
       "    .dataframe tbody tr th:only-of-type {\n",
       "        vertical-align: middle;\n",
       "    }\n",
       "\n",
       "    .dataframe tbody tr th {\n",
       "        vertical-align: top;\n",
       "    }\n",
       "\n",
       "    .dataframe thead th {\n",
       "        text-align: right;\n",
       "    }\n",
       "</style>\n",
       "<table border=\"1\" class=\"dataframe\">\n",
       "  <thead>\n",
       "    <tr style=\"text-align: right;\">\n",
       "      <th>sex</th>\n",
       "      <th>F</th>\n",
       "      <th>M</th>\n",
       "    </tr>\n",
       "    <tr>\n",
       "      <th>name</th>\n",
       "      <th></th>\n",
       "      <th></th>\n",
       "    </tr>\n",
       "  </thead>\n",
       "  <tbody>\n",
       "    <tr>\n",
       "      <th>Aaden</th>\n",
       "      <td>5.0</td>\n",
       "      <td>3917.0</td>\n",
       "    </tr>\n",
       "    <tr>\n",
       "      <th>Aadi</th>\n",
       "      <td>16.0</td>\n",
       "      <td>667.0</td>\n",
       "    </tr>\n",
       "    <tr>\n",
       "      <th>Aadyn</th>\n",
       "      <td>16.0</td>\n",
       "      <td>387.0</td>\n",
       "    </tr>\n",
       "    <tr>\n",
       "      <th>Aalijah</th>\n",
       "      <td>107.0</td>\n",
       "      <td>155.0</td>\n",
       "    </tr>\n",
       "    <tr>\n",
       "      <th>Aaliyah</th>\n",
       "      <td>69874.0</td>\n",
       "      <td>84.0</td>\n",
       "    </tr>\n",
       "  </tbody>\n",
       "</table>\n",
       "</div>"
      ],
      "text/plain": [
       "sex            F       M\n",
       "name                    \n",
       "Aaden        5.0  3917.0\n",
       "Aadi        16.0   667.0\n",
       "Aadyn       16.0   387.0\n",
       "Aalijah    107.0   155.0\n",
       "Aaliyah  69874.0    84.0"
      ]
     },
     "execution_count": 26,
     "metadata": {},
     "output_type": "execute_result"
    }
   ],
   "source": [
    "names_by_gender.head()"
   ]
  },
  {
   "cell_type": "code",
   "execution_count": 27,
   "metadata": {},
   "outputs": [],
   "source": [
    "names_by_gender[\"M_F_ratio\"] = names_by_gender[\"M\"]/names_by_gender[\"F\"]"
   ]
  },
  {
   "cell_type": "code",
   "execution_count": 28,
   "metadata": {},
   "outputs": [],
   "source": [
    "gender_neutral_names = names_by_gender[(names_by_gender[\"M_F_ratio\"] > 0.95) & (names_by_gender[\"M_F_ratio\"] < 1.05)]\n",
    "gender_neutral_names = gender_neutral_names.sort_values(by=\"F\", ascending=False)"
   ]
  },
  {
   "cell_type": "code",
   "execution_count": 29,
   "metadata": {},
   "outputs": [
    {
     "data": {
      "text/html": [
       "<div>\n",
       "<style scoped>\n",
       "    .dataframe tbody tr th:only-of-type {\n",
       "        vertical-align: middle;\n",
       "    }\n",
       "\n",
       "    .dataframe tbody tr th {\n",
       "        vertical-align: top;\n",
       "    }\n",
       "\n",
       "    .dataframe thead th {\n",
       "        text-align: right;\n",
       "    }\n",
       "</style>\n",
       "<table border=\"1\" class=\"dataframe\">\n",
       "  <thead>\n",
       "    <tr style=\"text-align: right;\">\n",
       "      <th>sex</th>\n",
       "      <th>F</th>\n",
       "      <th>M</th>\n",
       "      <th>M_F_ratio</th>\n",
       "    </tr>\n",
       "    <tr>\n",
       "      <th>name</th>\n",
       "      <th></th>\n",
       "      <th></th>\n",
       "      <th></th>\n",
       "    </tr>\n",
       "  </thead>\n",
       "  <tbody>\n",
       "    <tr>\n",
       "      <th>Kerry</th>\n",
       "      <td>48450.0</td>\n",
       "      <td>49420.0</td>\n",
       "      <td>1.020021</td>\n",
       "    </tr>\n",
       "    <tr>\n",
       "      <th>Kris</th>\n",
       "      <td>13437.0</td>\n",
       "      <td>13794.0</td>\n",
       "      <td>1.026568</td>\n",
       "    </tr>\n",
       "    <tr>\n",
       "      <th>Unknown</th>\n",
       "      <td>9295.0</td>\n",
       "      <td>9147.0</td>\n",
       "      <td>0.984077</td>\n",
       "    </tr>\n",
       "    <tr>\n",
       "      <th>Ivory</th>\n",
       "      <td>8408.0</td>\n",
       "      <td>8186.0</td>\n",
       "      <td>0.973597</td>\n",
       "    </tr>\n",
       "    <tr>\n",
       "      <th>Baby</th>\n",
       "      <td>5803.0</td>\n",
       "      <td>6037.0</td>\n",
       "      <td>1.040324</td>\n",
       "    </tr>\n",
       "  </tbody>\n",
       "</table>\n",
       "</div>"
      ],
      "text/plain": [
       "sex            F        M  M_F_ratio\n",
       "name                                \n",
       "Kerry    48450.0  49420.0   1.020021\n",
       "Kris     13437.0  13794.0   1.026568\n",
       "Unknown   9295.0   9147.0   0.984077\n",
       "Ivory     8408.0   8186.0   0.973597\n",
       "Baby      5803.0   6037.0   1.040324"
      ]
     },
     "execution_count": 29,
     "metadata": {},
     "output_type": "execute_result"
    }
   ],
   "source": [
    "gender_neutral_names.head()"
   ]
  },
  {
   "cell_type": "code",
   "execution_count": 30,
   "metadata": {},
   "outputs": [
    {
     "data": {
      "image/png": "[encoded data removed]",
      "text/plain": [
       "<Figure size 720x360 with 1 Axes>"
      ]
     },
     "metadata": {},
     "output_type": "display_data"
    }
   ],
   "source": [
    "gender_neutral_name = names[names[\"name\"] == \"Kerry\"].pivot_table('births', index='year', columns='sex', aggfunc=sum)\n",
    "gender_neutral_name.plot(figsize=(10,5), title='Total Births by Sex and Year', color=[\"red\",\"blue\"]);"
   ]
  },
  {
   "cell_type": "code",
   "execution_count": null,
   "metadata": {},
   "outputs": [],
   "source": []
  }
 ],
 "metadata": {
  "kernelspec": {
   "display_name": "Python 3",
   "language": "python",
   "name": "python3"
  },
  "language_info": {
   "codemirror_mode": {
    "name": "ipython",
    "version": 3
   },
   "file_extension": ".py",
   "mimetype": "text/x-python",
   "name": "python",
   "nbconvert_exporter": "python",
   "pygments_lexer": "ipython3",
   "version": "3.6.5"
  }
 },
 "nbformat": 4,
 "nbformat_minor": 2
}
